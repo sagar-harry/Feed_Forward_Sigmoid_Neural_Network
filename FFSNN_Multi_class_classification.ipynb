{
  "nbformat": 4,
  "nbformat_minor": 0,
  "metadata": {
    "colab": {
      "name": "TO-GITHUB",
      "provenance": [],
      "collapsed_sections": []
    },
    "kernelspec": {
      "name": "python3",
      "display_name": "Python 3"
    },
    "language_info": {
      "name": "python"
    },
    "widgets": {
      "application/vnd.jupyter.widget-state+json": {
        "2058584d9bc14fdfb3575e9691f382cc": {
          "model_module": "@jupyter-widgets/controls",
          "model_name": "HBoxModel",
          "state": {
            "_view_name": "HBoxView",
            "_dom_classes": [],
            "_model_name": "HBoxModel",
            "_view_module": "@jupyter-widgets/controls",
            "_model_module_version": "1.5.0",
            "_view_count": null,
            "_view_module_version": "1.5.0",
            "box_style": "",
            "layout": "IPY_MODEL_5e6f4ff62b0b4f8ca454e054bd485759",
            "_model_module": "@jupyter-widgets/controls",
            "children": [
              "IPY_MODEL_2c9518b95e02414b94e8c711c44574fc",
              "IPY_MODEL_ad31d6d34e164af5b898a6ed5fdb786c"
            ]
          }
        },
        "5e6f4ff62b0b4f8ca454e054bd485759": {
          "model_module": "@jupyter-widgets/base",
          "model_name": "LayoutModel",
          "state": {
            "_view_name": "LayoutView",
            "grid_template_rows": null,
            "right": null,
            "justify_content": null,
            "_view_module": "@jupyter-widgets/base",
            "overflow": null,
            "_model_module_version": "1.2.0",
            "_view_count": null,
            "flex_flow": null,
            "width": null,
            "min_width": null,
            "border": null,
            "align_items": null,
            "bottom": null,
            "_model_module": "@jupyter-widgets/base",
            "top": null,
            "grid_column": null,
            "overflow_y": null,
            "overflow_x": null,
            "grid_auto_flow": null,
            "grid_area": null,
            "grid_template_columns": null,
            "flex": null,
            "_model_name": "LayoutModel",
            "justify_items": null,
            "grid_row": null,
            "max_height": null,
            "align_content": null,
            "visibility": null,
            "align_self": null,
            "height": null,
            "min_height": null,
            "padding": null,
            "grid_auto_rows": null,
            "grid_gap": null,
            "max_width": null,
            "order": null,
            "_view_module_version": "1.2.0",
            "grid_template_areas": null,
            "object_position": null,
            "object_fit": null,
            "grid_auto_columns": null,
            "margin": null,
            "display": null,
            "left": null
          }
        },
        "2c9518b95e02414b94e8c711c44574fc": {
          "model_module": "@jupyter-widgets/controls",
          "model_name": "FloatProgressModel",
          "state": {
            "_view_name": "ProgressView",
            "style": "IPY_MODEL_0811429993024676b75ad2cafaa631b6",
            "_dom_classes": [],
            "description": "100%",
            "_model_name": "FloatProgressModel",
            "bar_style": "success",
            "max": 200,
            "_view_module": "@jupyter-widgets/controls",
            "_model_module_version": "1.5.0",
            "value": 200,
            "_view_count": null,
            "_view_module_version": "1.5.0",
            "orientation": "horizontal",
            "min": 0,
            "description_tooltip": null,
            "_model_module": "@jupyter-widgets/controls",
            "layout": "IPY_MODEL_771174a91e704287b17341c27a0dd855"
          }
        },
        "ad31d6d34e164af5b898a6ed5fdb786c": {
          "model_module": "@jupyter-widgets/controls",
          "model_name": "HTMLModel",
          "state": {
            "_view_name": "HTMLView",
            "style": "IPY_MODEL_561792ca07164bc29367e4279828c58c",
            "_dom_classes": [],
            "description": "",
            "_model_name": "HTMLModel",
            "placeholder": "​",
            "_view_module": "@jupyter-widgets/controls",
            "_model_module_version": "1.5.0",
            "value": " 200/200 [00:11&lt;00:00, 17.42epoch/s]",
            "_view_count": null,
            "_view_module_version": "1.5.0",
            "description_tooltip": null,
            "_model_module": "@jupyter-widgets/controls",
            "layout": "IPY_MODEL_64b09046b3ad4643953fadaf7ce5a64a"
          }
        },
        "0811429993024676b75ad2cafaa631b6": {
          "model_module": "@jupyter-widgets/controls",
          "model_name": "ProgressStyleModel",
          "state": {
            "_view_name": "StyleView",
            "_model_name": "ProgressStyleModel",
            "description_width": "initial",
            "_view_module": "@jupyter-widgets/base",
            "_model_module_version": "1.5.0",
            "_view_count": null,
            "_view_module_version": "1.2.0",
            "bar_color": null,
            "_model_module": "@jupyter-widgets/controls"
          }
        },
        "771174a91e704287b17341c27a0dd855": {
          "model_module": "@jupyter-widgets/base",
          "model_name": "LayoutModel",
          "state": {
            "_view_name": "LayoutView",
            "grid_template_rows": null,
            "right": null,
            "justify_content": null,
            "_view_module": "@jupyter-widgets/base",
            "overflow": null,
            "_model_module_version": "1.2.0",
            "_view_count": null,
            "flex_flow": null,
            "width": null,
            "min_width": null,
            "border": null,
            "align_items": null,
            "bottom": null,
            "_model_module": "@jupyter-widgets/base",
            "top": null,
            "grid_column": null,
            "overflow_y": null,
            "overflow_x": null,
            "grid_auto_flow": null,
            "grid_area": null,
            "grid_template_columns": null,
            "flex": null,
            "_model_name": "LayoutModel",
            "justify_items": null,
            "grid_row": null,
            "max_height": null,
            "align_content": null,
            "visibility": null,
            "align_self": null,
            "height": null,
            "min_height": null,
            "padding": null,
            "grid_auto_rows": null,
            "grid_gap": null,
            "max_width": null,
            "order": null,
            "_view_module_version": "1.2.0",
            "grid_template_areas": null,
            "object_position": null,
            "object_fit": null,
            "grid_auto_columns": null,
            "margin": null,
            "display": null,
            "left": null
          }
        },
        "561792ca07164bc29367e4279828c58c": {
          "model_module": "@jupyter-widgets/controls",
          "model_name": "DescriptionStyleModel",
          "state": {
            "_view_name": "StyleView",
            "_model_name": "DescriptionStyleModel",
            "description_width": "",
            "_view_module": "@jupyter-widgets/base",
            "_model_module_version": "1.5.0",
            "_view_count": null,
            "_view_module_version": "1.2.0",
            "_model_module": "@jupyter-widgets/controls"
          }
        },
        "64b09046b3ad4643953fadaf7ce5a64a": {
          "model_module": "@jupyter-widgets/base",
          "model_name": "LayoutModel",
          "state": {
            "_view_name": "LayoutView",
            "grid_template_rows": null,
            "right": null,
            "justify_content": null,
            "_view_module": "@jupyter-widgets/base",
            "overflow": null,
            "_model_module_version": "1.2.0",
            "_view_count": null,
            "flex_flow": null,
            "width": null,
            "min_width": null,
            "border": null,
            "align_items": null,
            "bottom": null,
            "_model_module": "@jupyter-widgets/base",
            "top": null,
            "grid_column": null,
            "overflow_y": null,
            "overflow_x": null,
            "grid_auto_flow": null,
            "grid_area": null,
            "grid_template_columns": null,
            "flex": null,
            "_model_name": "LayoutModel",
            "justify_items": null,
            "grid_row": null,
            "max_height": null,
            "align_content": null,
            "visibility": null,
            "align_self": null,
            "height": null,
            "min_height": null,
            "padding": null,
            "grid_auto_rows": null,
            "grid_gap": null,
            "max_width": null,
            "order": null,
            "_view_module_version": "1.2.0",
            "grid_template_areas": null,
            "object_position": null,
            "object_fit": null,
            "grid_auto_columns": null,
            "margin": null,
            "display": null,
            "left": null
          }
        },
        "e4c690378ecd46b0bf0c860fdca8fb95": {
          "model_module": "@jupyter-widgets/controls",
          "model_name": "HBoxModel",
          "state": {
            "_view_name": "HBoxView",
            "_dom_classes": [],
            "_model_name": "HBoxModel",
            "_view_module": "@jupyter-widgets/controls",
            "_model_module_version": "1.5.0",
            "_view_count": null,
            "_view_module_version": "1.5.0",
            "box_style": "",
            "layout": "IPY_MODEL_87dce4c4269240eba0471dc6701fbf5b",
            "_model_module": "@jupyter-widgets/controls",
            "children": [
              "IPY_MODEL_9d085a10237048cebe07d2d64f8c11dd",
              "IPY_MODEL_10a4cb7b42ce471e94beabf350485897"
            ]
          }
        },
        "87dce4c4269240eba0471dc6701fbf5b": {
          "model_module": "@jupyter-widgets/base",
          "model_name": "LayoutModel",
          "state": {
            "_view_name": "LayoutView",
            "grid_template_rows": null,
            "right": null,
            "justify_content": null,
            "_view_module": "@jupyter-widgets/base",
            "overflow": null,
            "_model_module_version": "1.2.0",
            "_view_count": null,
            "flex_flow": null,
            "width": null,
            "min_width": null,
            "border": null,
            "align_items": null,
            "bottom": null,
            "_model_module": "@jupyter-widgets/base",
            "top": null,
            "grid_column": null,
            "overflow_y": null,
            "overflow_x": null,
            "grid_auto_flow": null,
            "grid_area": null,
            "grid_template_columns": null,
            "flex": null,
            "_model_name": "LayoutModel",
            "justify_items": null,
            "grid_row": null,
            "max_height": null,
            "align_content": null,
            "visibility": null,
            "align_self": null,
            "height": null,
            "min_height": null,
            "padding": null,
            "grid_auto_rows": null,
            "grid_gap": null,
            "max_width": null,
            "order": null,
            "_view_module_version": "1.2.0",
            "grid_template_areas": null,
            "object_position": null,
            "object_fit": null,
            "grid_auto_columns": null,
            "margin": null,
            "display": null,
            "left": null
          }
        },
        "9d085a10237048cebe07d2d64f8c11dd": {
          "model_module": "@jupyter-widgets/controls",
          "model_name": "FloatProgressModel",
          "state": {
            "_view_name": "ProgressView",
            "style": "IPY_MODEL_b8500d915ed84b39bc5811f4ed261e39",
            "_dom_classes": [],
            "description": "100%",
            "_model_name": "FloatProgressModel",
            "bar_style": "success",
            "max": 400,
            "_view_module": "@jupyter-widgets/controls",
            "_model_module_version": "1.5.0",
            "value": 400,
            "_view_count": null,
            "_view_module_version": "1.5.0",
            "orientation": "horizontal",
            "min": 0,
            "description_tooltip": null,
            "_model_module": "@jupyter-widgets/controls",
            "layout": "IPY_MODEL_70762da114e846429eb77ca2677145ef"
          }
        },
        "10a4cb7b42ce471e94beabf350485897": {
          "model_module": "@jupyter-widgets/controls",
          "model_name": "HTMLModel",
          "state": {
            "_view_name": "HTMLView",
            "style": "IPY_MODEL_5a0ae210cdd14676bee84219f966b7df",
            "_dom_classes": [],
            "description": "",
            "_model_name": "HTMLModel",
            "placeholder": "​",
            "_view_module": "@jupyter-widgets/controls",
            "_model_module_version": "1.5.0",
            "value": " 400/400 [00:22&lt;00:00, 17.96epoch/s]",
            "_view_count": null,
            "_view_module_version": "1.5.0",
            "description_tooltip": null,
            "_model_module": "@jupyter-widgets/controls",
            "layout": "IPY_MODEL_e7eca0de84d64e97ad13dc266e344eca"
          }
        },
        "b8500d915ed84b39bc5811f4ed261e39": {
          "model_module": "@jupyter-widgets/controls",
          "model_name": "ProgressStyleModel",
          "state": {
            "_view_name": "StyleView",
            "_model_name": "ProgressStyleModel",
            "description_width": "initial",
            "_view_module": "@jupyter-widgets/base",
            "_model_module_version": "1.5.0",
            "_view_count": null,
            "_view_module_version": "1.2.0",
            "bar_color": null,
            "_model_module": "@jupyter-widgets/controls"
          }
        },
        "70762da114e846429eb77ca2677145ef": {
          "model_module": "@jupyter-widgets/base",
          "model_name": "LayoutModel",
          "state": {
            "_view_name": "LayoutView",
            "grid_template_rows": null,
            "right": null,
            "justify_content": null,
            "_view_module": "@jupyter-widgets/base",
            "overflow": null,
            "_model_module_version": "1.2.0",
            "_view_count": null,
            "flex_flow": null,
            "width": null,
            "min_width": null,
            "border": null,
            "align_items": null,
            "bottom": null,
            "_model_module": "@jupyter-widgets/base",
            "top": null,
            "grid_column": null,
            "overflow_y": null,
            "overflow_x": null,
            "grid_auto_flow": null,
            "grid_area": null,
            "grid_template_columns": null,
            "flex": null,
            "_model_name": "LayoutModel",
            "justify_items": null,
            "grid_row": null,
            "max_height": null,
            "align_content": null,
            "visibility": null,
            "align_self": null,
            "height": null,
            "min_height": null,
            "padding": null,
            "grid_auto_rows": null,
            "grid_gap": null,
            "max_width": null,
            "order": null,
            "_view_module_version": "1.2.0",
            "grid_template_areas": null,
            "object_position": null,
            "object_fit": null,
            "grid_auto_columns": null,
            "margin": null,
            "display": null,
            "left": null
          }
        },
        "5a0ae210cdd14676bee84219f966b7df": {
          "model_module": "@jupyter-widgets/controls",
          "model_name": "DescriptionStyleModel",
          "state": {
            "_view_name": "StyleView",
            "_model_name": "DescriptionStyleModel",
            "description_width": "",
            "_view_module": "@jupyter-widgets/base",
            "_model_module_version": "1.5.0",
            "_view_count": null,
            "_view_module_version": "1.2.0",
            "_model_module": "@jupyter-widgets/controls"
          }
        },
        "e7eca0de84d64e97ad13dc266e344eca": {
          "model_module": "@jupyter-widgets/base",
          "model_name": "LayoutModel",
          "state": {
            "_view_name": "LayoutView",
            "grid_template_rows": null,
            "right": null,
            "justify_content": null,
            "_view_module": "@jupyter-widgets/base",
            "overflow": null,
            "_model_module_version": "1.2.0",
            "_view_count": null,
            "flex_flow": null,
            "width": null,
            "min_width": null,
            "border": null,
            "align_items": null,
            "bottom": null,
            "_model_module": "@jupyter-widgets/base",
            "top": null,
            "grid_column": null,
            "overflow_y": null,
            "overflow_x": null,
            "grid_auto_flow": null,
            "grid_area": null,
            "grid_template_columns": null,
            "flex": null,
            "_model_name": "LayoutModel",
            "justify_items": null,
            "grid_row": null,
            "max_height": null,
            "align_content": null,
            "visibility": null,
            "align_self": null,
            "height": null,
            "min_height": null,
            "padding": null,
            "grid_auto_rows": null,
            "grid_gap": null,
            "max_width": null,
            "order": null,
            "_view_module_version": "1.2.0",
            "grid_template_areas": null,
            "object_position": null,
            "object_fit": null,
            "grid_auto_columns": null,
            "margin": null,
            "display": null,
            "left": null
          }
        }
      }
    }
  },
  "cells": [
    {
      "cell_type": "code",
      "metadata": {
        "id": "DRn5BgRkKtgv"
      },
      "source": [
        "import pandas as pd\n",
        "import numpy as np\n",
        "\n",
        "import matplotlib.pyplot as plt\n",
        "import matplotlib.colors \n",
        "\n",
        "from sklearn.preprocessing import MinMaxScaler, StandardScaler\n",
        "from sklearn.metrics import accuracy_score, log_loss\n",
        "from sklearn.model_selection import train_test_split\n",
        "\n",
        "from tqdm import tqdm_notebook\n",
        "\n",
        "from sklearn.datasets import make_blobs\n",
        "from sklearn.preprocessing import OneHotEncoder"
      ],
      "execution_count": 1,
      "outputs": []
    },
    {
      "cell_type": "code",
      "metadata": {
        "id": "wHZAS2oEKy3R"
      },
      "source": [
        "my_cmap = matplotlib.colors.LinearSegmentedColormap.from_list(\"\", [\"red\", \"yellow\", \"green\"])\n",
        "import seaborn as sns\n",
        "sns.set()"
      ],
      "execution_count": 2,
      "outputs": []
    },
    {
      "cell_type": "code",
      "metadata": {
        "id": "L4xT2b4GK0ro"
      },
      "source": [
        "class FFSN_MultiClass:\n",
        "  \n",
        "  def __init__(self, n_inputs, n_outputs, hidden_sizes=[3]):\n",
        "    self.nx = n_inputs\n",
        "    self.ny = n_outputs\n",
        "    self.nh = len(hidden_sizes)\n",
        "    self.sizes = [self.nx] + hidden_sizes + [self.ny] \n",
        "\n",
        "    self.W = {}\n",
        "    self.B = {}\n",
        "    for i in range(self.nh+1):\n",
        "      self.W[i+1] = np.random.randn(self.sizes[i], self.sizes[i+1])\n",
        "      self.B[i+1] = np.zeros((1, self.sizes[i+1]))\n",
        "      \n",
        "  def sigmoid(self, x):\n",
        "    return 1.0/(1.0 + np.exp(-x))\n",
        "  \n",
        "  def softmax(self, x):\n",
        "    exps = np.exp(x)\n",
        "    return exps / np.sum(exps)\n",
        "\n",
        "  def forward_pass(self, x):\n",
        "    self.A = {}\n",
        "    self.H = {}\n",
        "    self.H[0] = x.reshape(1, -1)\n",
        "    for i in range(self.nh):\n",
        "      self.A[i+1] = np.matmul(self.H[i], self.W[i+1]) + self.B[i+1]\n",
        "      self.H[i+1] = self.sigmoid(self.A[i+1])\n",
        "    self.A[self.nh+1] = np.matmul(self.H[self.nh], self.W[self.nh+1]) + self.B[self.nh+1]\n",
        "    self.H[self.nh+1] = self.softmax(self.A[self.nh+1])\n",
        "    return self.H[self.nh+1]\n",
        "  \n",
        "  def predict(self, X):\n",
        "    Y_pred = []\n",
        "    for x in X:\n",
        "      y_pred = self.forward_pass(x)\n",
        "      Y_pred.append(y_pred)\n",
        "    return np.array(Y_pred).squeeze()\n",
        " \n",
        "  def grad_sigmoid(self, x):\n",
        "    return x*(1-x) \n",
        "  \n",
        "  def cross_entropy(self,label,pred):\n",
        "    yl=np.multiply(pred,label)\n",
        "    yl=yl[yl!=0]\n",
        "    yl=-np.log(yl)\n",
        "    yl=np.mean(yl)\n",
        "    return yl\n",
        " \n",
        "  def grad(self, x, y):\n",
        "    self.forward_pass(x)\n",
        "    self.dW = {}\n",
        "    self.dB = {}\n",
        "    self.dH = {}\n",
        "    self.dA = {}\n",
        "    L = self.nh + 1\n",
        "    self.dA[L] = (self.H[L] - y)\n",
        "    for k in range(L, 0, -1):\n",
        "      self.dW[k] = np.matmul(self.H[k-1].T, self.dA[k])\n",
        "      self.dB[k] = self.dA[k]\n",
        "      self.dH[k-1] = np.matmul(self.dA[k], self.W[k].T)\n",
        "      self.dA[k-1] = np.multiply(self.dH[k-1], self.grad_sigmoid(self.H[k-1])) \n",
        "    \n",
        "  def fit(self, X, Y, epochs=100, initialize='True', lr=0.01, display_loss=False):\n",
        "      \n",
        "    if display_loss:\n",
        "      loss = {}\n",
        "      \n",
        "    if initialize:\n",
        "      for i in range(self.nh+1):\n",
        "        self.W[i+1] = np.random.randn(self.sizes[i], self.sizes[i+1])\n",
        "        self.B[i+1] = np.zeros((1, self.sizes[i+1]))\n",
        "        \n",
        "    for epoch in tqdm_notebook(range(epochs), total=epochs, unit=\"epoch\"):\n",
        "      dW = {}\n",
        "      dB = {}\n",
        "      for i in range(self.nh+1):\n",
        "        dW[i+1] = np.zeros((self.sizes[i], self.sizes[i+1]))\n",
        "        dB[i+1] = np.zeros((1, self.sizes[i+1]))\n",
        "      for x, y in zip(X, Y):\n",
        "        self.grad(x, y)\n",
        "        for i in range(self.nh+1):\n",
        "          dW[i+1] += self.dW[i+1]\n",
        "          dB[i+1] += self.dB[i+1]\n",
        "                  \n",
        "      m = X.shape[1]\n",
        "      for i in range(self.nh+1):\n",
        "        self.W[i+1] -= (lr* (dW[i+1]/m))\n",
        "        self.B[i+1] -= (lr * (dB[i+1]/m))\n",
        "        \n",
        "      if display_loss:\n",
        "        Y_pred = self.predict(X) \n",
        "        loss[epoch] = self.cross_entropy(Y, Y_pred)\n",
        "    \n",
        "    if display_loss:\n",
        "      plt.plot(list(loss.values()))\n",
        "      plt.xlabel('Epochs')\n",
        "      plt.ylabel('CE')\n",
        "      plt.show()"
      ],
      "execution_count": 3,
      "outputs": []
    },
    {
      "cell_type": "code",
      "metadata": {
        "id": "do9LaD79BJaz"
      },
      "source": [
        "data, labels = make_blobs(n_samples=1000, centers=4, n_features=2, random_state=3)"
      ],
      "execution_count": 4,
      "outputs": []
    },
    {
      "cell_type": "code",
      "metadata": {
        "colab": {
          "base_uri": "https://localhost:8080/",
          "height": 289
        },
        "id": "Iz5alZJjBlB-",
        "outputId": "2d40f02a-4370-4d22-9157-b0c1d46056df"
      },
      "source": [
        "plt.scatter(data[:,0], data[:,1], c=labels, cmap=my_cmap)"
      ],
      "execution_count": 5,
      "outputs": [
        {
          "output_type": "execute_result",
          "data": {
            "text/plain": [
              "<matplotlib.collections.PathCollection at 0x7fe0bf41a990>"
            ]
          },
          "metadata": {
            "tags": []
          },
          "execution_count": 5
        },
        {
          "output_type": "display_data",
          "data": {
            "image/png": "[encoded data removed]",
            "text/plain": [
              "<Figure size 432x288 with 1 Axes>"
            ]
          },
          "metadata": {
            "tags": []
          }
        }
      ]
    },
    {
      "cell_type": "code",
      "metadata": {
        "id": "6VdY_wFIC1OW"
      },
      "source": [
        "X_train, X_val, Y_train, Y_val = train_test_split(data, labels, test_size=0.25)"
      ],
      "execution_count": 6,
      "outputs": []
    },
    {
      "cell_type": "code",
      "metadata": {
        "id": "bKKT6wGTDPTu"
      },
      "source": [
        "onc = OneHotEncoder()\n",
        "Y_train_o = onc.fit_transform(np.expand_dims(Y_train, 1)).toarray()\n",
        "Y_val_o = onc.fit_transform(np.expand_dims(Y_val, 1)).toarray()"
      ],
      "execution_count": 7,
      "outputs": []
    },
    {
      "cell_type": "code",
      "metadata": {
        "id": "Ue3ylsmuCDpA"
      },
      "source": [
        "ffn2 = FFSN_MultiClass(2, 4, [5])"
      ],
      "execution_count": 8,
      "outputs": []
    },
    {
      "cell_type": "code",
      "metadata": {
        "colab": {
          "base_uri": "https://localhost:8080/",
          "height": 371,
          "referenced_widgets": [
            "2058584d9bc14fdfb3575e9691f382cc",
            "5e6f4ff62b0b4f8ca454e054bd485759",
            "2c9518b95e02414b94e8c711c44574fc",
            "ad31d6d34e164af5b898a6ed5fdb786c",
            "0811429993024676b75ad2cafaa631b6",
            "771174a91e704287b17341c27a0dd855",
            "561792ca07164bc29367e4279828c58c",
            "64b09046b3ad4643953fadaf7ce5a64a"
          ]
        },
        "id": "mceNdcUzD7ra",
        "outputId": "3808e996-1f48-4f19-8495-ee676e160523"
      },
      "source": [
        "ffn2.fit(X_train, Y_train_o, epochs=200, display_loss=True, lr=0.001)"
      ],
      "execution_count": 9,
      "outputs": [
        {
          "output_type": "stream",
          "text": [
            "/usr/local/lib/python3.7/dist-packages/ipykernel_launcher.py:74: TqdmDeprecationWarning: This function will be removed in tqdm==5.0.0\n",
            "Please use `tqdm.notebook.tqdm` instead of `tqdm.tqdm_notebook`\n"
          ],
          "name": "stderr"
        },
        {
          "output_type": "display_data",
          "data": {
            "application/vnd.jupyter.widget-view+json": {
              "model_id": "2058584d9bc14fdfb3575e9691f382cc",
              "version_minor": 0,
              "version_major": 2
            },
            "text/plain": [
              "HBox(children=(FloatProgress(value=0.0, max=200.0), HTML(value='')))"
            ]
          },
          "metadata": {
            "tags": []
          }
        },
        {
          "output_type": "stream",
          "text": [
            "\n"
          ],
          "name": "stdout"
        },
        {
          "output_type": "display_data",
          "data": {
            "image/png": "[encoded data removed]",
            "text/plain": [
              "<Figure size 432x288 with 1 Axes>"
            ]
          },
          "metadata": {
            "tags": []
          }
        }
      ]
    },
    {
      "cell_type": "code",
      "metadata": {
        "colab": {
          "base_uri": "https://localhost:8080/",
          "height": 373,
          "referenced_widgets": [
            "e4c690378ecd46b0bf0c860fdca8fb95",
            "87dce4c4269240eba0471dc6701fbf5b",
            "9d085a10237048cebe07d2d64f8c11dd",
            "10a4cb7b42ce471e94beabf350485897",
            "b8500d915ed84b39bc5811f4ed261e39",
            "70762da114e846429eb77ca2677145ef",
            "5a0ae210cdd14676bee84219f966b7df",
            "e7eca0de84d64e97ad13dc266e344eca"
          ]
        },
        "id": "tK5y896DJfUc",
        "outputId": "f92f7655-8df8-47f8-a923-00f713b386f0"
      },
      "source": [
        "ffn2.fit(X_train, Y_train_o, epochs=400, display_loss=True, lr=0.001, initialize=False)"
      ],
      "execution_count": 10,
      "outputs": [
        {
          "output_type": "stream",
          "text": [
            "/usr/local/lib/python3.7/dist-packages/ipykernel_launcher.py:74: TqdmDeprecationWarning: This function will be removed in tqdm==5.0.0\n",
            "Please use `tqdm.notebook.tqdm` instead of `tqdm.tqdm_notebook`\n"
          ],
          "name": "stderr"
        },
        {
          "output_type": "display_data",
          "data": {
            "application/vnd.jupyter.widget-view+json": {
              "model_id": "e4c690378ecd46b0bf0c860fdca8fb95",
              "version_minor": 0,
              "version_major": 2
            },
            "text/plain": [
              "HBox(children=(FloatProgress(value=0.0, max=400.0), HTML(value='')))"
            ]
          },
          "metadata": {
            "tags": []
          }
        },
        {
          "output_type": "stream",
          "text": [
            "\n"
          ],
          "name": "stdout"
        },
        {
          "output_type": "display_data",
          "data": {
            "image/png": "[encoded data removed]",
            "text/plain": [
              "<Figure size 432x288 with 1 Axes>"
            ]
          },
          "metadata": {
            "tags": []
          }
        }
      ]
    },
    {
      "cell_type": "code",
      "metadata": {
        "colab": {
          "base_uri": "https://localhost:8080/"
        },
        "id": "AEeu1sppEekl",
        "outputId": "dd5da381-5030-462a-fa06-212c952b3322"
      },
      "source": [
        "Y_val_pred = ffn2.predict(X_val)\n",
        "Y_val_pred_b = np.argmax(Y_val_pred, 1)\n",
        "print(accuracy_score(Y_val_pred_b, Y_val))"
      ],
      "execution_count": 11,
      "outputs": [
        {
          "output_type": "stream",
          "text": [
            "0.996\n"
          ],
          "name": "stdout"
        }
      ]
    }
  ]
}